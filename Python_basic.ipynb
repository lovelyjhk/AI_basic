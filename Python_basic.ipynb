{
  "nbformat": 4,
  "nbformat_minor": 0,
  "metadata": {
    "colab": {
      "provenance": [],
      "gpuType": "T4",
      "mount_file_id": "1O098z8NatOmd-u1r5q4z16yjU8rvM1Iy",
      "authorship_tag": "ABX9TyOAVNOrqRozgI0aM0zte/Vj",
      "include_colab_link": true
    },
    "kernelspec": {
      "name": "python3",
      "display_name": "Python 3"
    },
    "language_info": {
      "name": "python"
    },
    "accelerator": "GPU"
  },
  "cells": [
    {
      "cell_type": "markdown",
      "metadata": {
        "id": "view-in-github",
        "colab_type": "text"
      },
      "source": [
        "<a href=\"https://colab.research.google.com/github/lovelyjhk/AI_basic/blob/main/Python_basic.ipynb\" target=\"_parent\"><img src=\"https://colab.research.google.com/assets/colab-badge.svg\" alt=\"Open In Colab\"/></a>"
      ]
    },
    {
      "cell_type": "code",
      "execution_count": null,
      "metadata": {
        "colab": {
          "base_uri": "https://localhost:8080/"
        },
        "id": "zrXxNr2kmcMj",
        "outputId": "eac8d1a4-fa47-4438-e187-a7d9da36de94"
      },
      "outputs": [
        {
          "output_type": "stream",
          "name": "stdout",
          "text": [
            "hello world!\n"
          ]
        }
      ],
      "source": [
        "print(\"hello world!\")"
      ]
    },
    {
      "cell_type": "markdown",
      "source": [
        "안녕하세요. 코딩박사 잇잇쌤입니다.\n",
        "\n",
        "여러분과 함께 Python 기초를 AI코딩을 위해 기본기를 완성하겠습니다.\n",
        "\n",
        "1. 변수와 함수\n"
      ],
      "metadata": {
        "id": "39iwfsV2nkHr"
      }
    },
    {
      "cell_type": "code",
      "source": [
        "# (# 샵은 주석: 화면에 나타나지 않는 개발자끼리 소통방식)\n",
        "# 변수란? 데이터를 담는 메모리공간 그릇\n",
        "x = 5\n",
        "print(x)"
      ],
      "metadata": {
        "colab": {
          "base_uri": "https://localhost:8080/"
        },
        "id": "EZTUCKtNoJiH",
        "outputId": "5586f681-97a2-4712-9b0f-c3077dead30d"
      },
      "execution_count": null,
      "outputs": [
        {
          "output_type": "stream",
          "name": "stdout",
          "text": [
            "5\n"
          ]
        }
      ]
    },
    {
      "cell_type": "code",
      "source": [
        "# 2) 변수끼리 연산 ( 숫자 데이터 )\n",
        "x = 5\n",
        "y = 3\n",
        "z = x - y\n",
        "print(z)"
      ],
      "metadata": {
        "colab": {
          "base_uri": "https://localhost:8080/"
        },
        "id": "MF4G2KulogMJ",
        "outputId": "84acdc07-6264-4148-f9b2-9ea8d014bdb5"
      },
      "execution_count": null,
      "outputs": [
        {
          "output_type": "stream",
          "name": "stdout",
          "text": [
            "2\n"
          ]
        }
      ]
    },
    {
      "cell_type": "code",
      "source": [
        "# 3) 변수 에 연산자 사용해서 담아보기\n",
        "x = 5 % 3 # 나머지 연산자\n",
        "print(x)\n",
        "x = 5 **2 # 제곱 연산자\n",
        "print(x)\n",
        "x = 7  + 1 # 더하기 연산자\n",
        "print(x)\n",
        "x = 7 - 1  # 빼기 연산자\n",
        "print(x)\n",
        "x = 8 * 9 # 곱하기 연산자\n",
        "print(x)\n",
        "x = 2 / 3 # 나누기 연산자\n",
        "print(x)"
      ],
      "metadata": {
        "colab": {
          "base_uri": "https://localhost:8080/"
        },
        "id": "Bbq25bboom2r",
        "outputId": "e5f0a59a-94ab-41b3-f8d8-73505b1414d7"
      },
      "execution_count": null,
      "outputs": [
        {
          "output_type": "stream",
          "name": "stdout",
          "text": [
            "2\n",
            "25\n",
            "8\n",
            "6\n",
            "72\n",
            "0.6666666666666666\n"
          ]
        }
      ]
    },
    {
      "cell_type": "code",
      "source": [
        "# 4) 데이터의 종류 (문자열)\n",
        "x = \"안녕\"\n",
        "y = \"하세요\"\n",
        "print( x + y )\n"
      ],
      "metadata": {
        "colab": {
          "base_uri": "https://localhost:8080/"
        },
        "id": "5qzKRlNxpPq0",
        "outputId": "4712080d-606e-4951-8162-a08d64ca439a"
      },
      "execution_count": null,
      "outputs": [
        {
          "output_type": "stream",
          "name": "stdout",
          "text": [
            "안녕하세요\n",
            "True\n",
            "False\n"
          ]
        }
      ]
    },
    {
      "cell_type": "code",
      "source": [
        "# 5) 데이터의 종류 ( boolean )\n",
        "x = True\n",
        "y = False\n",
        "print( x )\n",
        "print( y )\n",
        "#조건문/반복문과 함께 사용이 됨"
      ],
      "metadata": {
        "colab": {
          "base_uri": "https://localhost:8080/"
        },
        "id": "Ul7x4Lr1pqDn",
        "outputId": "d06c6046-a36e-4a18-9d09-5309b92eb520"
      },
      "execution_count": null,
      "outputs": [
        {
          "output_type": "stream",
          "name": "stdout",
          "text": [
            "True\n",
            "False\n"
          ]
        }
      ]
    },
    {
      "cell_type": "markdown",
      "source": [
        "2. 반복문과 제어문\n"
      ],
      "metadata": {
        "id": "-HTm2B6ooKFl"
      }
    },
    {
      "cell_type": "code",
      "source": [
        "#제어문\n",
        "x = 3\n",
        "if x > 0:\n",
        "  print(\"양수입니다\")\n",
        "elif x == 0 :\n",
        "  print(\"0 입니다\")\n",
        "else:\n",
        "  print(\"음수입니다\")\n",
        "\n"
      ],
      "metadata": {
        "colab": {
          "base_uri": "https://localhost:8080/"
        },
        "id": "HUqrSKUwoLQt",
        "outputId": "f2216a23-7a67-4041-c032-b939f4183c67"
      },
      "execution_count": null,
      "outputs": [
        {
          "output_type": "stream",
          "name": "stdout",
          "text": [
            "양수입니다\n",
            "Value is 2\n",
            "Value is something else\n"
          ]
        }
      ]
    },
    {
      "cell_type": "code",
      "source": [
        "#제어문 match\n",
        "def get_status(value):\n",
        "    match value:\n",
        "        case 1:\n",
        "            print(\"Value is 1\")\n",
        "        case 2:\n",
        "            print(\"Value is 2\")\n",
        "        case 3:\n",
        "            print(\"Value is 3\")\n",
        "        case _:\n",
        "            print(\"Value is something else\")\n",
        "\n",
        "get_status(2)  # Output: Value is 2\n",
        "get_status(5)  # Output: Value is something else"
      ],
      "metadata": {
        "colab": {
          "base_uri": "https://localhost:8080/"
        },
        "id": "PHN9mXzF-35j",
        "outputId": "d057dd28-db72-4a01-f7a4-5caca2626885"
      },
      "execution_count": null,
      "outputs": [
        {
          "output_type": "stream",
          "name": "stdout",
          "text": [
            "Value is 2\n",
            "Value is something else\n"
          ]
        }
      ]
    },
    {
      "cell_type": "code",
      "source": [
        "#단순 반복문\n",
        "for i in range(3):\n",
        "  print(i)\n",
        "\n",
        "#리스트 반복하기 (값으로)\n",
        "x = [\"안\",\"녕\",\"하\",\"세\",\"요\"]\n",
        "for i in x:\n",
        "  print(i)\n",
        "\n",
        "#리스트 반복하기2 (인덱스로)\n",
        "for j in range(len(x)):\n",
        "  print(x[j])\n",
        "\n",
        "x = 0\n",
        "while True:\n",
        "  x += 1\n",
        "  print(x)\n",
        "  if x >= 10 :\n",
        "    break"
      ],
      "metadata": {
        "colab": {
          "base_uri": "https://localhost:8080/"
        },
        "id": "LWJu_3bu988T",
        "outputId": "b9aaf52a-c0fe-452c-82df-c85260d289b9"
      },
      "execution_count": null,
      "outputs": [
        {
          "output_type": "stream",
          "name": "stdout",
          "text": [
            "0\n",
            "1\n",
            "2\n",
            "안\n",
            "녕\n",
            "하\n",
            "세\n",
            "요\n",
            "안\n",
            "녕\n",
            "하\n",
            "세\n",
            "요\n",
            "1\n",
            "2\n",
            "3\n",
            "4\n",
            "5\n",
            "6\n",
            "7\n",
            "8\n",
            "9\n",
            "10\n"
          ]
        }
      ]
    },
    {
      "cell_type": "markdown",
      "source": [
        "3. 데이터타입 과 리스트"
      ],
      "metadata": {
        "id": "As3jm0ZzoLtr"
      }
    },
    {
      "cell_type": "code",
      "source": [
        "#Data Type 의 종류를 리스트에 담아보았습니다.\n",
        "integer_list = [1, 2, 3, 4, 5] #정수형 숫자\n",
        "float_list = [3.14, 2.718, 1.618] #실수형 숫자\n",
        "string_list = [\"apple\", \"banana\", \"cherry\"] #문자열\n",
        "boolean_list = [True, False, True, False] #불리언\n",
        "mixed_list = [1, \"apple\", 3.14, True] #혼합형\n",
        "empty_list = [] #비어있는 데이터\n",
        "#2차원 배열\n",
        "two_dimen = [ [0,1,2], [2,3,4],[3,4,5]]\n",
        "for i in two_dimen:\n",
        "  for j in i:\n",
        "    print(j)\n",
        "#3차원 배열\n",
        "three_dimen = [ [0,1,2,3,[0,3,3]]\n",
        "                [0,2,2,2,[0,2,3]]\n",
        "              ]"
      ],
      "metadata": {
        "id": "NcLoB1njoOd0"
      },
      "execution_count": null,
      "outputs": []
    },
    {
      "cell_type": "code",
      "source": [
        "# 리스트 관련 조작 함수\n",
        "x = [2,3,4]\n",
        "#추가\n",
        "x.append(5)\n",
        "print(x)"
      ],
      "metadata": {
        "colab": {
          "base_uri": "https://localhost:8080/"
        },
        "id": "7j_wFJ30Cocc",
        "outputId": "9416a53c-9a7a-4c18-ff84-3893350f94f4"
      },
      "execution_count": null,
      "outputs": [
        {
          "output_type": "stream",
          "name": "stdout",
          "text": [
            "[2, 3, 4, 5]\n",
            "[2, 3, 5]\n",
            "[]\n",
            "[2, 3, 3, 4, 4, 7]\n",
            "[5, 4, 3, 2, 1]\n",
            "2의개수? 5\n",
            "1\n",
            "[1, 2, 4]\n"
          ]
        }
      ]
    },
    {
      "cell_type": "code",
      "source": [
        "#선택 삭제\n",
        "x.pop(2)\n",
        "print(x)"
      ],
      "metadata": {
        "id": "p99uY6B4ESPt"
      },
      "execution_count": null,
      "outputs": []
    },
    {
      "cell_type": "code",
      "source": [
        "#삭제\n",
        "x.clear()\n",
        "print(x)\n",
        "# remove\n",
        "x = [1, 2, 3, 4]\n",
        "x.remove(3)\n",
        "print(x)  # 출력: [1, 2, 4]"
      ],
      "metadata": {
        "colab": {
          "base_uri": "https://localhost:8080/"
        },
        "id": "HjV66DbiEUmN",
        "outputId": "7120c3ff-99f2-4c17-eb99-4db0c33c5fba"
      },
      "execution_count": null,
      "outputs": [
        {
          "output_type": "stream",
          "name": "stdout",
          "text": [
            "[]\n",
            "[1, 2, 4]\n"
          ]
        }
      ]
    },
    {
      "cell_type": "code",
      "source": [
        "#정렬\n",
        "x = [3,4,7,2,3,4]\n",
        "x.sort()\n",
        "print(x)\n",
        "#역정렬\n",
        "x = [1,2,3,4,5]\n",
        "x.reverse()\n",
        "print(x)"
      ],
      "metadata": {
        "colab": {
          "base_uri": "https://localhost:8080/"
        },
        "id": "kwV1C-KPEYXa",
        "outputId": "c9f7ce75-0d4d-4bce-b1a8-5b7fd44510f2"
      },
      "execution_count": null,
      "outputs": [
        {
          "output_type": "stream",
          "name": "stdout",
          "text": [
            "[2, 3, 3, 4, 4, 7]\n",
            "[5, 4, 3, 2, 1]\n"
          ]
        }
      ]
    },
    {
      "cell_type": "code",
      "source": [
        "# 개수\n",
        "x = [1,2,2,2,2,2]\n",
        "print(\"2의개수?\" , x.count(2))"
      ],
      "metadata": {
        "id": "acxhS57ZEbAZ"
      },
      "execution_count": null,
      "outputs": []
    },
    {
      "cell_type": "code",
      "source": [
        "#합계\n",
        "x = [2,3,3,3,3,3,3,3,3,3,3,3,3]\n",
        "print(sum(x))"
      ],
      "metadata": {
        "colab": {
          "base_uri": "https://localhost:8080/"
        },
        "id": "xHFL907KEc1E",
        "outputId": "d7ba6d39-3476-4e65-9001-e7e40401dbdc"
      },
      "execution_count": null,
      "outputs": [
        {
          "output_type": "stream",
          "name": "stdout",
          "text": [
            "38\n"
          ]
        }
      ]
    },
    {
      "cell_type": "code",
      "source": [
        "# index\n",
        "x = [2,3,3,4,4]\n",
        "print(x.index(3)) # 3이라는 값은 몇번째?"
      ],
      "metadata": {
        "colab": {
          "base_uri": "https://localhost:8080/"
        },
        "id": "KNzd_EgrEh0b",
        "outputId": "be7f3481-7ccf-4425-ab58-5e83f57fac5d"
      },
      "execution_count": null,
      "outputs": [
        {
          "output_type": "stream",
          "name": "stdout",
          "text": [
            "1\n"
          ]
        }
      ]
    },
    {
      "cell_type": "markdown",
      "source": [
        "4. 파일 다루기(File Handling)\n",
        "\n",
        "\n",
        "AI코딩을 할때 파일을 다룰 일이 많기 때문에, 반드시 숙지하고 가셔야 합니다.\n"
      ],
      "metadata": {
        "id": "oyy31yfKoO6w"
      }
    },
    {
      "cell_type": "code",
      "source": [
        "#파일쓰기\n",
        "file_path = \"example.txt\"\n",
        "\n",
        "with open(file_path, \"w\") as file:\n",
        "    file.write(\"Hello, world!\")"
      ],
      "metadata": {
        "id": "MXKwl3yM_mIA"
      },
      "execution_count": null,
      "outputs": []
    },
    {
      "cell_type": "code",
      "source": [
        "#파일읽기\n",
        "file_path = \"example.txt\"\n",
        "\n",
        "with open(file_path, \"r\") as file:\n",
        "    contents = file.read()\n",
        "    print(contents)\n"
      ],
      "metadata": {
        "colab": {
          "base_uri": "https://localhost:8080/"
        },
        "id": "od6ZghqI_z34",
        "outputId": "1a1eaab0-a171-40c3-832f-8ff7f874a42f"
      },
      "execution_count": null,
      "outputs": [
        {
          "output_type": "stream",
          "name": "stdout",
          "text": [
            "Hello, world!\n",
            "This is an additional line.\n"
          ]
        }
      ]
    },
    {
      "cell_type": "code",
      "source": [
        "#파일에 내용추가\n",
        "file_path = \"example.txt\"\n",
        "\n",
        "with open(file_path, \"a\") as file:\n",
        "    file.write(\"\\nThis is an additional line.\")\n"
      ],
      "metadata": {
        "id": "_BnGriZ5_l-R"
      },
      "execution_count": null,
      "outputs": []
    },
    {
      "cell_type": "code",
      "source": [
        "import os\n",
        "\n",
        "file_path = \"example.txt\"\n",
        "\n",
        "if os.path.exists(file_path):\n",
        "    os.remove(file_path)\n",
        "    print(f\"{file_path} 파일이 삭제되었습니다.\")\n",
        "else:\n",
        "    print(f\"{file_path} 파일이 존재하지 않습니다.\")\n"
      ],
      "metadata": {
        "colab": {
          "base_uri": "https://localhost:8080/"
        },
        "id": "8KNFs1NroQf_",
        "outputId": "6ac754b4-18bd-427c-f311-3c4f1d6d9278"
      },
      "execution_count": null,
      "outputs": [
        {
          "output_type": "stream",
          "name": "stdout",
          "text": [
            "example.txt 파일이 삭제되었습니다.\n"
          ]
        }
      ]
    },
    {
      "cell_type": "markdown",
      "source": [
        "5. 모듈과 패키지\n",
        "\n",
        "모듈화는 코드를 조직화하고 재사용성을 높이는데 사용되는 중요한 개념입니다.\n",
        "대형 프로젝트에서는 폴더 경로로 모듈화하여 관리할 수 있습니다."
      ],
      "metadata": {
        "id": "2NIk5ba3oQyW"
      }
    },
    {
      "cell_type": "code",
      "source": [
        "# 왼쪽 폴더 경로에 calculation.py 에 아래 코딩을 복사해서 저장하세요 !\n",
        "\n",
        "def add(x, y):\n",
        "    return x + y\n",
        "\n",
        "def subtract(x, y):\n",
        "    return x - y\n"
      ],
      "metadata": {
        "id": "m6cew2DIoRhW"
      },
      "execution_count": null,
      "outputs": []
    },
    {
      "cell_type": "code",
      "source": [
        "#main.py: 모듈을 import하여 사용하는 예제입니다.\n",
        "# main.py\n",
        "\n",
        "import calculation\n",
        "\n",
        "result_add = calculation.add(5, 3)\n",
        "print(\"Addition:\", result_add)\n",
        "\n",
        "result_subtract = calculation.subtract(10, 4)\n",
        "print(\"Subtraction:\", result_subtract)\n"
      ],
      "metadata": {
        "colab": {
          "base_uri": "https://localhost:8080/"
        },
        "id": "2lfQSvdqAxA6",
        "outputId": "950314b5-ff16-494b-9416-3c6f77d9fae4"
      },
      "execution_count": null,
      "outputs": [
        {
          "output_type": "stream",
          "name": "stdout",
          "text": [
            "Addition: 8\n",
            "Subtraction: 6\n"
          ]
        }
      ]
    },
    {
      "cell_type": "markdown",
      "source": [
        "6. 클래스와 객체지향 프로그래밍\n"
      ],
      "metadata": {
        "id": "-aOsYjD4oRzB"
      }
    },
    {
      "cell_type": "code",
      "source": [
        "class Car:\n",
        "    def __init__(self, brand, model, year):\n",
        "        self.brand = brand\n",
        "        self.model = model\n",
        "        self.year = year\n",
        "        self.odometer_reading = 0\n",
        "\n",
        "    def get_descriptive_name(self):\n",
        "        full_name = f\"{self.year} {self.brand} {self.model}\"\n",
        "        return full_name\n",
        "\n",
        "    def read_odometer(self):\n",
        "        print(f\"This car has {self.odometer_reading} miles on it.\")\n",
        "\n",
        "    def update_odometer(self, mileage):\n",
        "        if mileage >= self.odometer_reading:\n",
        "            self.odometer_reading = mileage\n",
        "        else:\n",
        "            print(\"You can't roll back an odometer!\")\n",
        "\n",
        "    def increment_odometer(self, miles):\n",
        "        self.odometer_reading += miles\n",
        "\n",
        "# Car 클래스의 인스턴스 생성\n",
        "my_car = Car(\"Toyota\", \"Camry\", 2022)\n",
        "\n",
        "# 객체의 속성에 접근하여 정보 출력\n",
        "print(my_car.get_descriptive_name())\n",
        "\n",
        "# 객체의 메소드 호출\n",
        "my_car.read_odometer()\n",
        "\n",
        "# 객체의 속성 업데이트\n",
        "my_car.update_odometer(100)\n",
        "\n",
        "# 객체의 메소드 호출\n",
        "my_car.read_odometer()\n",
        "\n",
        "# 객체의 속성 업데이트\n",
        "my_car.increment_odometer(50)\n",
        "\n",
        "# 객체의 메소드 호출\n",
        "my_car.read_odometer()\n"
      ],
      "metadata": {
        "colab": {
          "base_uri": "https://localhost:8080/"
        },
        "id": "7Kf58IBHCNuX",
        "outputId": "12fdbfe4-92f5-48ae-a703-d46c4e72ca92"
      },
      "execution_count": null,
      "outputs": [
        {
          "output_type": "stream",
          "name": "stdout",
          "text": [
            "2022 Toyota Camry\n",
            "This car has 0 miles on it.\n",
            "This car has 100 miles on it.\n",
            "This car has 150 miles on it.\n"
          ]
        }
      ]
    },
    {
      "cell_type": "markdown",
      "source": [
        "\n",
        "\n",
        "> 위 코드에서 Car 클래스는 자동차를 나타내며, 자동차의 브랜드, 모델, 연도 등을 저장합니다. __init__() 메소드는 객체가 생성될 때 호출되며, 객체의 초기 상태를 설정합니다. get_descriptive_name() 메소드는 자동차에 대한 정보를 문자열로 반환합니다.\n",
        "\n"
      ],
      "metadata": {
        "id": "iuHx8F2XCcRj"
      }
    },
    {
      "cell_type": "markdown",
      "source": [
        "7. 예외처리"
      ],
      "metadata": {
        "id": "yPfhbqp3oTep"
      }
    },
    {
      "cell_type": "code",
      "source": [
        "try:\n",
        "    # 사용자로부터 정수를 입력받음\n",
        "    num1 = int(input(\"첫 번째 숫자를 입력하세요: \"))\n",
        "    num2 = int(input(\"두 번째 숫자를 입력하세요: \"))\n",
        "\n",
        "    # 입력받은 숫자를 나눔\n",
        "    result = num1 / num2\n",
        "\n",
        "    # 결과 출력\n",
        "    print(\"나눗셈 결과:\", result)\n",
        "\n",
        "except ZeroDivisionError:\n",
        "    # 0으로 나누는 예외 처리\n",
        "    print(\"0으로 나눌 수 없습니다.\")\n",
        "\n",
        "except ValueError:\n",
        "    # 유효하지 않은 입력값 예외 처리\n",
        "    print(\"올바른 숫자를 입력하세요.\")\n",
        "\n",
        "except Exception as e:\n",
        "    # 기타 예외 처리\n",
        "    print(\"에러 발생:\", e)\n"
      ],
      "metadata": {
        "colab": {
          "base_uri": "https://localhost:8080/"
        },
        "id": "ojNSh5SToT-X",
        "outputId": "a75acb68-1ca8-4792-89bd-2bc0988a21b6"
      },
      "execution_count": null,
      "outputs": [
        {
          "output_type": "stream",
          "name": "stdout",
          "text": [
            "첫 번째 숫자를 입력하세요: 3\n",
            "두 번째 숫자를 입력하세요: 4\n",
            "나눗셈 결과: 0.75\n"
          ]
        }
      ]
    },
    {
      "cell_type": "code",
      "source": [
        "\n",
        "\n",
        "import random\n",
        "\n",
        "class Minesweeper:\n",
        "    def __init__(self, rows, cols, num_mines):\n",
        "        self.rows = rows\n",
        "        self.cols = cols\n",
        "        self.num_mines = num_mines\n",
        "        self.board = [[' ' for _ in range(cols)] for _ in range(rows)]\n",
        "        self.generate_mines()\n",
        "\n",
        "    def generate_mines(self):\n",
        "        mines_generated = 0\n",
        "        while mines_generated < self.num_mines:\n",
        "            row = random.randint(0, self.rows - 1)\n",
        "            col = random.randint(0, self.cols - 1)\n",
        "            if self.board[row][col] != '*':\n",
        "                self.board[row][col] = '*'\n",
        "                mines_generated += 1\n",
        "\n",
        "    def display_board(self):\n",
        "        print('  ' + ' '.join(str(i) for i in range(self.cols)))\n",
        "        print(' +' + '-' * (self.cols * 2 - 1) + '+')\n",
        "        for i, row in enumerate(self.board):\n",
        "            print(f'{i}|' + ' '.join(row) + '|')\n",
        "        print(' +' + '-' * (self.cols * 2 - 1) + '+')\n",
        "\n",
        "    def reveal(self, row, col):\n",
        "        if self.board[row][col] == '*':\n",
        "            return False\n",
        "        else:\n",
        "            adjacent_mines = self.count_adjacent_mines(row, col)\n",
        "            self.board[row][col] = str(adjacent_mines) if adjacent_mines > 0 else '0'\n",
        "            return True\n",
        "\n",
        "    def count_adjacent_mines(self, row, col):\n",
        "        count = 0\n",
        "        for dr in [-1, 0, 1]:\n",
        "            for dc in [-1, 0, 1]:\n",
        "                if dr == dc == 0:\n",
        "                    continue\n",
        "                r, c = row + dr, col + dc\n",
        "                if 0 <= r < self.rows and 0 <= c < self.cols and self.board[r][c] == '*':\n",
        "                    count += 1\n",
        "        return count\n",
        "\n",
        "def main():\n",
        "    rows = int(input(\"행 수를 입력하세요: \"))\n",
        "    cols = int(input(\"열 수를 입력하세요: \"))\n",
        "    num_mines = int(input(\"지뢰 개수를 입력하세요: \"))\n",
        "\n",
        "    game = Minesweeper(rows, cols, num_mines)\n",
        "    game.display_board()\n",
        "\n",
        "    while True:\n",
        "        row = int(input(\"행을 선택하세요: \"))\n",
        "        col = int(input(\"열을 선택하세요: \"))\n",
        "\n",
        "        if not (0 <= row < rows and 0 <= col < cols):\n",
        "            print(\"잘못된 위치입니다. 다시 선택하세요.\")\n",
        "            continue\n",
        "\n",
        "        if not game.reveal(row, col):\n",
        "            print(\"지뢰를 밟았습니다. 게임 오버!\")\n",
        "            game.board[row][col] = '*'\n",
        "              # 지뢰 위치 '*' 표시\n",
        "            game.display_board()  # 지뢰 위치 표시 후 보드 출력\n",
        "            break\n",
        "\n",
        "        game.display_board()\n",
        "\n",
        "if __name__ == \"__main__\":\n",
        "    main()\n"
      ],
      "metadata": {
        "colab": {
          "base_uri": "https://localhost:8080/"
        },
        "id": "8CArD8HMEw90",
        "outputId": "9b270aa9-2f62-453e-b54d-9bce1a945461"
      },
      "execution_count": null,
      "outputs": [
        {
          "output_type": "stream",
          "name": "stdout",
          "text": [
            "행 수를 입력하세요: 5\n",
            "열 수를 입력하세요: 5\n",
            "지뢰 개수를 입력하세요: 3\n",
            "  0 1 2 3 4\n",
            " +---------+\n",
            "0|         |\n",
            "1|        *|\n",
            "2|         |\n",
            "3|*        |\n",
            "4|        *|\n",
            " +---------+\n",
            "행을 선택하세요: 2\n",
            "열을 선택하세요: 1\n",
            "  0 1 2 3 4\n",
            " +---------+\n",
            "0|         |\n",
            "1|        *|\n",
            "2|  1      |\n",
            "3|*        |\n",
            "4|        *|\n",
            " +---------+\n",
            "행을 선택하세요: 4\n",
            "열을 선택하세요: 3\n",
            "  0 1 2 3 4\n",
            " +---------+\n",
            "0|         |\n",
            "1|        *|\n",
            "2|  1      |\n",
            "3|*        |\n",
            "4|      1 *|\n",
            " +---------+\n",
            "행을 선택하세요: 4\n",
            "열을 선택하세요: 4\n",
            "지뢰를 밟았습니다. 게임 오버!\n",
            "  0 1 2 3 4\n",
            " +---------+\n",
            "0|         |\n",
            "1|        *|\n",
            "2|  1      |\n",
            "3|*        |\n",
            "4|      1 *|\n",
            " +---------+\n"
          ]
        }
      ]
    }
  ]
}