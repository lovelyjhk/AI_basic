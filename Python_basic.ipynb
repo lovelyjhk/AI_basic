{
  "nbformat": 4,
  "nbformat_minor": 0,
  "metadata": {
    "colab": {
      "provenance": [],
      "gpuType": "T4",
      "mount_file_id": "1O098z8NatOmd-u1r5q4z16yjU8rvM1Iy",
      "authorship_tag": "ABX9TyO78HOIEYAoW089KFOrBvSF",
      "include_colab_link": true
    },
    "kernelspec": {
      "name": "python3",
      "display_name": "Python 3"
    },
    "language_info": {
      "name": "python"
    },
    "accelerator": "GPU"
  },
  "cells": [
    {
      "cell_type": "markdown",
      "metadata": {
        "id": "view-in-github",
        "colab_type": "text"
      },
      "source": [
        "<a href=\"https://colab.research.google.com/github/lovelyjhk/AI_basic/blob/main/Python_basic.ipynb\" target=\"_parent\"><img src=\"https://colab.research.google.com/assets/colab-badge.svg\" alt=\"Open In Colab\"/></a>"
      ]
    },
    {
      "cell_type": "code",
      "execution_count": null,
      "metadata": {
        "id": "zrXxNr2kmcMj"
      },
      "outputs": [],
      "source": []
    },
    {
      "cell_type": "markdown",
      "source": [
        "안녕하세요. 코딩박사 잇잇쌤입니다.\n",
        "\n",
        "여러분과 함께 Python 기초를 AI코딩을 위해 기본기를 완성하겠습니다.\n",
        "\n",
        "1. 변수와 함수\n",
        "2. 반복문과 제어문\n",
        "3. 데이터타입 과 리스트\n",
        "4. 파일 다루기(File Handling)\n",
        "5. 모듈과 패키지\n",
        "6. 클래스와 객체지향 프로그래밍\n",
        "7. 예외처리"
      ],
      "metadata": {
        "id": "39iwfsV2nkHr"
      }
    }
  ]
}